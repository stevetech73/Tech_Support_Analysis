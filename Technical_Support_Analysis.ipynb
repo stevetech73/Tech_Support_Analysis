{
 "cells": [
  {
   "cell_type": "markdown",
   "metadata": {
    "id": "3Wjq5vQ_zVKB"
   },
   "source": [
    "# Data Analysis Project\n",
    "\n",
    "# Technical Support Analysis \n",
    "\n",
    "## 1. Project Overview\n",
    "   \n",
    "### My goal is to compile data from various Technical Support operations, and show how this information can be used to improve customer service, response times, resolution times, and maybe even future engineering projects. \n",
    "         "
   ]
  },
  {
   "cell_type": "code",
   "execution_count": null,
   "metadata": {
    "id": "s3u-RZzrzVKD"
   },
   "outputs": [],
   "source": [
    "# Get started\n",
    "import pandas as pd\n",
    "\n",
    "\n"
   ]
  },
  {
   "cell_type": "markdown",
   "metadata": {
    "id": "Ni067xtQzVKF"
   },
   "source": [
    "## 2. Data Collection and Loading   \n",
    "\n",
    "### I used datasets that have information about service tickets, ticket generation, response time, resolution, and resolution time.\n",
    "###   Dataset_1: \"Technical Support Dataset.csv\" <br> Dataset_2: \"Customer Support Tickets.csv\""
   ]
  },
  {
   "cell_type": "markdown",
   "metadata": {},
   "source": [
    "### Dataset_1"
   ]
  },
  {
   "cell_type": "code",
   "execution_count": null,
   "metadata": {
    "colab": {
     "base_uri": "https://localhost:8080/",
     "height": 347
    },
    "id": "aih9bSBHzVKG",
    "outputId": "e1e22ef3-ab26-4070-b595-e043b90dcf32"
   },
   "outputs": [],
   "source": [
    "# Load Dataset_1 \n",
    "dataset_1_info = pd.read_csv('Technical Support Dataset.csv')\n",
    "print(dataset_1_info)"
   ]
  },
  {
   "cell_type": "code",
   "execution_count": null,
   "metadata": {},
   "outputs": [],
   "source": [
    "# Dataset_1: Insert underscores. Makes it easier for me to read columns names\n",
    "dataset_1_info.columns = dataset_1_info.columns.str.replace(' ', '_')\n",
    "print(dataset_1_info)"
   ]
  },
  {
   "cell_type": "code",
   "execution_count": null,
   "metadata": {},
   "outputs": [],
   "source": [
    "# Dataset_1: Initial Check. Display the first few rows and basic information about the dataset.\n",
    "dataset_1_info.head()"
   ]
  },
  {
   "cell_type": "code",
   "execution_count": null,
   "metadata": {},
   "outputs": [],
   "source": [
    "# Dataset 1: Choose which columns or data to focus on and drop the rest.\n",
    "\n",
    "dataset_1_info = dataset_1_info.drop(['Source', 'Agent_Group', 'Agent_Name', 'Agent_interactions', 'Survey_results', 'Product_group', 'Support_Level', 'Country', 'Latitude', 'Longitude', 'Created_time'], axis='columns')\n",
    "dataset_1_info"
   ]
  },
  {
   "cell_type": "code",
   "execution_count": null,
   "metadata": {},
   "outputs": [],
   "source": [
    "# Change column names\n",
    "dataset_1_info.rename(columns = {'Status' : 'Ticket_Status', 'Priority' : 'Ticket_Priority', 'Topic' : 'Ticket_Type'}, inplace='true')\n",
    "dataset_1_info"
   ]
  },
  {
   "cell_type": "markdown",
   "metadata": {},
   "source": [
    "### Dataset_2"
   ]
  },
  {
   "cell_type": "code",
   "execution_count": null,
   "metadata": {},
   "outputs": [],
   "source": [
    "# Load Dataset_2\n",
    "dataset_2_info = pd.read_csv('Customer Support Tickets.csv')\n",
    "print(dataset_2_info)"
   ]
  },
  {
   "cell_type": "code",
   "execution_count": null,
   "metadata": {
    "id": "nOkYbrdSzVKI"
   },
   "outputs": [],
   "source": [
    "# Dataset_2: Insert underscores. Makes it easier for me to read columns names\n",
    "dataset_2_info.columns = dataset_2_info.columns.str.replace(' ', '_')\n",
    "print(dataset_2_info)"
   ]
  },
  {
   "cell_type": "code",
   "execution_count": null,
   "metadata": {
    "id": "TIQjW8irzVKI"
   },
   "outputs": [],
   "source": [
    "# Dataset_2: Initial Check. Display the first few rows and basic information about the dataset.\n",
    "dataset_2_info.head()"
   ]
  },
  {
   "cell_type": "code",
   "execution_count": null,
   "metadata": {},
   "outputs": [],
   "source": [
    "# Dataset_2: Choose which columns or data to focus on and drop the rest.\n",
    "\n",
    "dataset_2_info = dataset_2_info.drop(['Customer_Name', 'Customer_Email', 'Customer_Age', 'Customer_Gender', 'Product_Purchased', 'Date_of_Purchase', 'Ticket_Channel'], axis='columns')\n",
    "dataset_2_info"
   ]
  }
 ],
 "metadata": {
  "colab": {
   "provenance": []
  },
  "kernelspec": {
   "display_name": "Python 3",
   "language": "python",
   "name": "python3"
  },
  "language_info": {
   "codemirror_mode": {
    "name": "ipython",
    "version": 3
   },
   "file_extension": ".py",
   "mimetype": "text/x-python",
   "name": "python",
   "nbconvert_exporter": "python",
   "pygments_lexer": "ipython3",
   "version": "3.11.2"
  }
 },
 "nbformat": 4,
 "nbformat_minor": 0
}
